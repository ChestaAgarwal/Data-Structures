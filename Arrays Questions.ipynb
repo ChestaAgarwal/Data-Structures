{
 "cells": [
  {
   "cell_type": "markdown",
   "metadata": {},
   "source": [
    "### Q1. Move Zeroes\n",
    "Given an integer array nums, move all 0's to the end of it while maintaining \n",
    "the relative order of the non-zero elements.\n",
    "\n",
    "Note that you must do this in-place without making a copy of the array."
   ]
  },
  {
   "cell_type": "code",
   "execution_count": 1,
   "metadata": {},
   "outputs": [],
   "source": [
    "class removeVal:\n",
    "    nums = []\n",
    "    \n",
    "    def removeValue(self,val: int) -> int: \n",
    "        \"\"\" This function moves all occurrences of the val argument to the end of the list \n",
    "        and also returns the number of other elements in the list\n",
    "        \"\"\"\n",
    "        k = 0\n",
    "        \n",
    "        for i in range(len(self.nums)-1):\n",
    "            if self.nums[i] == val:\n",
    "                j = i+1\n",
    "                while (self.nums[j] == val) and j < len(self.nums)-1 :\n",
    "                    j= j+1\n",
    "                \n",
    "                if(self.nums[i] != self.nums[j]):\n",
    "                    self.nums[i] = self.nums[j]\n",
    "                    self.nums[j] = val\n",
    "                    k = k+1\n",
    "                \n",
    "        return k\n",
    "    "
   ]
  },
  {
   "cell_type": "code",
   "execution_count": 4,
   "metadata": {},
   "outputs": [
    {
     "name": "stdout",
     "output_type": "stream",
     "text": [
      "Number of non-zero elements:  4\n",
      "nums:  [1, 3, 3, 12, 0, 0]\n"
     ]
    }
   ],
   "source": [
    "ob = removeVal()\n",
    "ob.nums = [0,1,0,3,3,12]\n",
    "k = ob.removeValue(0)  # the value 0 will be moved to the end of the list\n",
    "print(\"Number of non-zero elements: \",k)\n",
    "print(\"nums: \",ob.nums)"
   ]
  },
  {
   "cell_type": "markdown",
   "metadata": {},
   "source": [
    "## Q2. First Unique Character in a String\n",
    "\n",
    "Given a string s, find the first non-repeating character in it and return its index. If it does not exist, return -1."
   ]
  },
  {
   "cell_type": "code",
   "execution_count": 9,
   "metadata": {},
   "outputs": [],
   "source": [
    "def uniqueCharacter(s: str)-> int:\n",
    "    \n",
    "    str =dict() # create a new dictionary where each distinct character from the string will be the key with its count in the input string as its value\n",
    "\n",
    "    for i in range(len(s)):\n",
    "        if s[i] not in str.keys():  #add each distinct character from the string as a key to the dictionary with value 1\n",
    "            str[s[i]] = 1\n",
    "        else:\n",
    "            str[s[i]] =str[s[i]]+1 # for each repeating character increment the value for the key value pair by 1\n",
    "\n",
    "    #print(str.items())\n",
    "\n",
    "    for i in s:  #traverse the string to find the first unique character\n",
    "        if str[i] ==1:\n",
    "            return s.index(i)\n",
    "    \n",
    "    return(-1)\n",
    "\n"
   ]
  },
  {
   "cell_type": "code",
   "execution_count": 10,
   "metadata": {},
   "outputs": [
    {
     "name": "stdout",
     "output_type": "stream",
     "text": [
      "First Unique Character occurs at:  2\n"
     ]
    }
   ],
   "source": [
    "s = \"loveleetcode\"\n",
    "firstIndex= uniqueCharacter(s)\n",
    "print(\"First Unique Character occurs at: \",firstIndex)"
   ]
  },
  {
   "cell_type": "code",
   "execution_count": 11,
   "metadata": {},
   "outputs": [
    {
     "name": "stdout",
     "output_type": "stream",
     "text": [
      "First Unique Character occurs at:  -1\n"
     ]
    }
   ],
   "source": [
    "s = \"aabbcc\"\n",
    "firstIndex= uniqueCharacter(s)\n",
    "print(\"First Unique Character occurs at: \",firstIndex)"
   ]
  },
  {
   "cell_type": "code",
   "execution_count": null,
   "metadata": {},
   "outputs": [],
   "source": []
  }
 ],
 "metadata": {
  "kernelspec": {
   "display_name": "Python 3",
   "language": "python",
   "name": "python3"
  },
  "language_info": {
   "codemirror_mode": {
    "name": "ipython",
    "version": 3
   },
   "file_extension": ".py",
   "mimetype": "text/x-python",
   "name": "python",
   "nbconvert_exporter": "python",
   "pygments_lexer": "ipython3",
   "version": "3.7.3"
  }
 },
 "nbformat": 4,
 "nbformat_minor": 2
}
