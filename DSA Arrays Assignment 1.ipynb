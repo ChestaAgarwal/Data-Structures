{
 "cells": [
  {
   "cell_type": "code",
   "execution_count": 1,
   "id": "1735d361-5e6b-403c-935d-ea4e06dfb765",
   "metadata": {},
   "outputs": [],
   "source": [
    "\"\"\" Question 1: Given an array of integers nums and an integer target, return indices of the two numbers such that they add up to target.\n",
    "\n",
    "You may assume that each input would have exactly one solution, and you may not use the same element twice.\"\"\"\n",
    "\n",
    "\n",
    "def sumOfList(nums: list,target: int)-> list :\n",
    "    \"\"\" Function to return the list of indices whose sum is equal to target.\n",
    "    This is a 2 Sum Problem.. Solved using the Two Pointer approach \n",
    "    Assumption: There is exactly one solution.\n",
    "    \n",
    "    Time Complexity: O(n) \n",
    "    Space Complexity: O(1) \"\"\"\n",
    "   \n",
    "    nums.sort()  # Array is sorted in increasing order\n",
    "\n",
    "    lo = 0      # lo pointer set to beginning of array\n",
    "    hi = len(nums)-1 # hi pointer set to end of array\n",
    "\n",
    "    sum_list = nums[lo] + nums[hi]  # sum of values at lo and hi\n",
    "    \n",
    "    while (sum_list != target) and (lo<hi) :\n",
    "\n",
    "        sum_list = nums[lo] + nums[hi] \n",
    "\n",
    "        if sum_list > target:         # if sum > target then decrement hi pointer \n",
    "            hi = hi-1\n",
    "        elif sum_list < target:       # if sum < target then increment lo pointer\n",
    "            lo = lo+1\n",
    "        else:\n",
    "            res = [lo,hi]             # i.e. if sum is equal to target then store the pointer indices in a list\n",
    "\n",
    "    return res"
   ]
  },
  {
   "cell_type": "code",
   "execution_count": 2,
   "id": "d1186b22-a7ad-4c32-b6c2-8de9752e107a",
   "metadata": {},
   "outputs": [
    {
     "name": "stdout",
     "output_type": "stream",
     "text": [
      "result :  [0, 1]\n"
     ]
    }
   ],
   "source": [
    "nums= [2,7,11,15]       # input\n",
    "target = 9              # target value\n",
    "\n",
    "result = sumOfList(nums,target)\n",
    "\n",
    "print(\"result : \", result)"
   ]
  },
  {
   "cell_type": "code",
   "execution_count": 1,
   "id": "b4c0d4b3-22f3-464b-9c4a-d73da42ebd77",
   "metadata": {},
   "outputs": [],
   "source": [
    "\"\"\"  \n",
    "Question 2: Given an integer array nums and an integer val, remove all occurrences of val in nums in-place.\n",
    "The order of the elements may be changed. Then return the number of elements in nums which are \n",
    "not equal to val.\n",
    "\n",
    "Consider the number of elements in nums which are not equal to val be k, to get accepted, \n",
    "you need to do the following things:\n",
    "\n",
    "- Change the array nums such that the first k elements of nums contain the elements which are \n",
    "not equal to val. The remaining elements of nums are not important as well as the size of nums.\n",
    "- Return k.\n",
    "\n",
    "\"\"\"\n",
    "class removeVal:\n",
    "    nums = []\n",
    "    \n",
    "    def removeValue(self,val: int) -> int:\n",
    "        k = 0\n",
    "        \n",
    "        for i in range(len(self.nums)-1):\n",
    "            if self.nums[i] == val:\n",
    "                j = i+1\n",
    "                while (self.nums[j] == val) and j < len(self.nums)-1 :\n",
    "                    j= j+1\n",
    "                \n",
    "                if(self.nums[i] != self.nums[j]):\n",
    "                    self.nums[i] = self.nums[j]\n",
    "                    self.nums[j] = val\n",
    "                    k = k+1\n",
    "                \n",
    "        return k\n",
    "    \n",
    "    \n",
    "                "
   ]
  },
  {
   "cell_type": "code",
   "execution_count": 9,
   "id": "d39389a8-afab-4d83-9cff-157ac620e30a",
   "metadata": {},
   "outputs": [
    {
     "name": "stdout",
     "output_type": "stream",
     "text": [
      "2\n",
      "nums:  [2, 2, 3, 3]\n"
     ]
    }
   ],
   "source": [
    "# Sample Input 1\n",
    "ob = removeVal()\n",
    "ob.nums = [3,2,2,3]\n",
    "k = ob.removeValue(3)\n",
    "print(k)\n",
    "print(\"nums: \",ob.nums)"
   ]
  },
  {
   "cell_type": "code",
   "execution_count": 10,
   "id": "7cc8dff7-c1ea-4416-b02e-cef89b3181d7",
   "metadata": {},
   "outputs": [
    {
     "name": "stdout",
     "output_type": "stream",
     "text": [
      "6\n",
      "nums:  [4, 5, 2, 6, 7, 1, 3, 3, 3, 3]\n"
     ]
    }
   ],
   "source": [
    "#Sample input 2\n",
    "ob = removeVal()\n",
    "ob.nums = [3,4,5,2,3,3,6,7,3,1]\n",
    "k = ob.removeValue(3)\n",
    "print(k)\n",
    "print(\"nums: \",ob.nums)"
   ]
  },
  {
   "cell_type": "code",
   "execution_count": 17,
   "id": "11d6ff01-0581-4e24-a196-08dea202c587",
   "metadata": {},
   "outputs": [],
   "source": [
    "\"\"\"\n",
    "Question 3: Given a sorted array of distinct integers and a target value, \n",
    "return the index if the target is found. \n",
    "If not, return the index where it would be if it were inserted in order.\n",
    "\n",
    "You must write an algorithm with O(log n) runtime complexity.\n",
    "\"\"\"\n",
    "\n",
    "def search(nums: list, key: int) -> int:\n",
    "    \"\"\"Function to return the index of key element or the position \n",
    "    where the element should be inserted\n",
    "    \n",
    "    Solved using Binary Search Approach in O(log n) search and insertion time complexity\"\"\"\n",
    "    \n",
    "    left = 0\n",
    "    right = len(nums)-1\n",
    "    \n",
    "   \n",
    "    \n",
    "    while(left<=right):\n",
    "        mid = int((left + right)/2)\n",
    "            \n",
    "        if nums[mid] < target:\n",
    "            left = mid+1\n",
    "        elif nums[mid]> target:\n",
    "            right = mid-1\n",
    "        else:\n",
    "            print(\"Element found\")\n",
    "            return mid\n",
    "    \n",
    "    print(\"Element not found: Insert element at index\")\n",
    "    return right+1\n",
    "    "
   ]
  },
  {
   "cell_type": "code",
   "execution_count": 18,
   "id": "ccca2953-64fb-48da-a515-df773f6db894",
   "metadata": {},
   "outputs": [
    {
     "name": "stdout",
     "output_type": "stream",
     "text": [
      "Element found\n",
      "2\n"
     ]
    }
   ],
   "source": [
    "nums = [1,3,5,6]\n",
    "target = 5\n",
    "\n",
    "index = search(nums,target)\n",
    "print(index)"
   ]
  },
  {
   "cell_type": "code",
   "execution_count": 19,
   "id": "9b8d723e-ba7e-4274-8443-79ecf978d174",
   "metadata": {},
   "outputs": [
    {
     "name": "stdout",
     "output_type": "stream",
     "text": [
      "Element not found: Insert element at index\n",
      "1\n"
     ]
    }
   ],
   "source": [
    "nums = [1,3,5,6]\n",
    "target =2\n",
    "\n",
    "index = search(nums,target)\n",
    "print(index)"
   ]
  },
  {
   "cell_type": "code",
   "execution_count": 31,
   "id": "41c8953a-70e2-4dc1-97fc-81272096b44e",
   "metadata": {},
   "outputs": [
    {
     "name": "stdout",
     "output_type": "stream",
     "text": [
      "Incremented number is:  [2, 0, 0, 0]\n"
     ]
    }
   ],
   "source": [
    "\"\"\"\n",
    "Question 4: You are given a large integer represented as an integer array digits, \n",
    "where each digits[i] is the ith digit of the integer. \n",
    "The digits are ordered from most significant to least significant in left-to-right order. \n",
    "The large integer does not contain any leading 0's.\n",
    "\n",
    "Increment the large integer by one and return the resulting array of digits.\n",
    "\n",
    "\"\"\"\n",
    "\n",
    "\n",
    "digits = [1,9,9,9]\n",
    "\n",
    "def increment(digits):\n",
    "    length = len(digits)-1\n",
    "\n",
    "    for i in range(length,-1,-1):\n",
    "        if digits[i] < 9:\n",
    "            digits[i] = digits[i]+1\n",
    "            break\n",
    "        else:\n",
    "            digits[i] = 0\n",
    "\n",
    "    print(\"Incremented number is: \",digits)\n",
    "\n",
    "    \n",
    "increment(digits)"
   ]
  },
  {
   "cell_type": "code",
   "execution_count": 20,
   "id": "25543ddc-f12f-4f7d-acbb-8a508eaed6c0",
   "metadata": {},
   "outputs": [
    {
     "name": "stdout",
     "output_type": "stream",
     "text": [
      "Merged Array:  [1, 2, 2, 3, 4, 5, 6]\n"
     ]
    }
   ],
   "source": [
    "\"\"\"\n",
    "Question 5:  You are given two integer arrays nums1 and nums2, sorted in non-decreasing order, \n",
    "and two integers m and n, representing the number of elements in nums1 and nums2 respectively.\n",
    "\n",
    "Merge nums1 and nums2 into a single array sorted in non-decreasing order.\n",
    "\n",
    "The final sorted array should not be returned by the function, \n",
    "but instead be stored inside the array nums1. To accommodate this, \n",
    "nums1 has a length of m + n, where the first m elements denote the elements \n",
    "that should be merged, and the last n elements are set to 0 and should be ignored. \n",
    "nums2 has a length of n.\n",
    "\n",
    "\"\"\"\n",
    "\n",
    "nums1 = [1,2,3,4,0,0,0]\n",
    "nums2 = [2,5,6]\n",
    "\n",
    "num = list()\n",
    "\n",
    "# calculate size of m and create copy of nums1\n",
    "m = 0\n",
    "\n",
    "for i in range(len(nums1)):\n",
    "    if nums1[i] != 0:\n",
    "        m= m+1\n",
    "    else:\n",
    "        break\n",
    "\n",
    "num = nums1[:m]\n",
    "\n",
    "\n",
    "# m = len(num)\n",
    "n = len(nums2)\n",
    "\n",
    "p1 = 0\n",
    "p2 = 0\n",
    "\n",
    "\n",
    "for p in range(len(nums1)):\n",
    "    if (p2<= n-1):\n",
    "        if (p1<=m-1) and num[p1] <= nums2[p2] :\n",
    "            nums1[p] = num[p1]\n",
    "            p1 = p1+1\n",
    "        else:\n",
    "            nums1[p] = nums2[p2]\n",
    "            p2 = p2+1\n",
    "\n",
    "print(\"Merged Array: \", nums1)\n"
   ]
  },
  {
   "cell_type": "code",
   "execution_count": null,
   "id": "b9445742-4315-40b9-8e64-5e71bd8d580f",
   "metadata": {},
   "outputs": [],
   "source": []
  },
  {
   "cell_type": "code",
   "execution_count": 4,
   "id": "dcb89f17-8b85-4ff1-888a-e3a757c576ba",
   "metadata": {},
   "outputs": [
    {
     "name": "stdout",
     "output_type": "stream",
     "text": [
      "True\n"
     ]
    }
   ],
   "source": [
    "\"\"\"\n",
    "Question 6: Given an integer array nums, return true if any value appears at least twice in the array, \n",
    "and return false if every element is distinct.\n",
    "\"\"\"\n",
    "\n",
    "def checkDuplicate(nums: list):\n",
    "    a = set()\n",
    "    for i in range(len(nums)):\n",
    "        a.add(nums[i])\n",
    "        if len(a) != i+1 :\n",
    "            print(\"True\")\n",
    "            break\n",
    "        elif len(a) == len(nums) :\n",
    "            print(\"False\")\n",
    "    return\n",
    "\n",
    "num = [7,8,0,9,2,7]\n",
    "checkDuplicate(num)"
   ]
  },
  {
   "cell_type": "code",
   "execution_count": 2,
   "id": "51e0a88f-f9b6-40e8-8b61-ca3ad1298cd8",
   "metadata": {},
   "outputs": [
    {
     "name": "stdout",
     "output_type": "stream",
     "text": [
      "3\n",
      "nums:  [1, 3, 12, 0, 0]\n"
     ]
    }
   ],
   "source": [
    "\"\"\"\n",
    "Question 7: Given an integer array nums, move all 0's to the end of it while \n",
    "maintaining the relative order of the nonzero elements.\n",
    "\n",
    "Note that you must do this in-place without making a copy of the array.\n",
    "\n",
    "Same as question 2. so calling the same class.\n",
    "\"\"\"\n",
    "\n",
    "ob = removeVal()\n",
    "ob.nums = [0,1,0,3,12]\n",
    "k = ob.removeValue(0)\n",
    "print(k)\n",
    "print(\"nums: \",ob.nums)"
   ]
  },
  {
   "cell_type": "code",
   "execution_count": 22,
   "id": "a3193e7e-1d8f-4b48-9a9a-bd028336d595",
   "metadata": {},
   "outputs": [
    {
     "name": "stdout",
     "output_type": "stream",
     "text": [
      "res: [3, 7]\n"
     ]
    }
   ],
   "source": [
    "\"\"\"\n",
    "Question 8: You have a set of integers s, which originally contains all the numbers from 1 to n. \n",
    "Unfortunately, due to some error, one of the numbers in s got duplicated to another number in the set, \n",
    "which results in repetition of one number and loss of another number.\n",
    "\n",
    "You are given an integer array nums representing the data status of this set after the error.\n",
    "\n",
    "Find the number that occurs twice and the number that is missing and return them in the form of an array.\n",
    "\n",
    "\"\"\"\n",
    "\n",
    "s = [4,3,3,1,5,6,2]\n",
    "\n",
    "n = len(s)\n",
    "\n",
    "for i in range(1,n+1):\n",
    "    if s.count(i)==0:\n",
    "        missing = i\n",
    "    elif s.count(i) ==2:\n",
    "        duplicate = i\n",
    "    else:\n",
    "        pass\n",
    "res = [duplicate,missing]\n",
    "\n",
    "print(\"res:\", res)\n",
    "\n"
   ]
  },
  {
   "cell_type": "code",
   "execution_count": null,
   "id": "15b896e4-3fa8-4832-8a63-020c114cf03a",
   "metadata": {},
   "outputs": [],
   "source": []
  },
  {
   "cell_type": "code",
   "execution_count": null,
   "id": "d3216193-8836-400f-81f3-df13ffdf9d3a",
   "metadata": {},
   "outputs": [],
   "source": []
  },
  {
   "cell_type": "code",
   "execution_count": null,
   "id": "252dadeb-fa90-4c84-a1ac-a28092984f4a",
   "metadata": {},
   "outputs": [],
   "source": []
  },
  {
   "cell_type": "code",
   "execution_count": null,
   "id": "d62d469a-5f10-42b2-9add-a3f5c39b9256",
   "metadata": {},
   "outputs": [],
   "source": []
  },
  {
   "cell_type": "code",
   "execution_count": null,
   "id": "177b9a15-1c7c-4c50-8b9a-f76b2a959d31",
   "metadata": {},
   "outputs": [],
   "source": []
  }
 ],
 "metadata": {
  "kernelspec": {
   "display_name": "Python 3 (ipykernel)",
   "language": "python",
   "name": "python3"
  },
  "language_info": {
   "codemirror_mode": {
    "name": "ipython",
    "version": 3
   },
   "file_extension": ".py",
   "mimetype": "text/x-python",
   "name": "python",
   "nbconvert_exporter": "python",
   "pygments_lexer": "ipython3",
   "version": "3.10.6"
  }
 },
 "nbformat": 4,
 "nbformat_minor": 5
}
